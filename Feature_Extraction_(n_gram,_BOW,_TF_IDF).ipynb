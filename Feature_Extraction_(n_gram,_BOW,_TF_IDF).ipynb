{
  "nbformat": 4,
  "nbformat_minor": 0,
  "metadata": {
    "colab": {
      "provenance": []
    },
    "kernelspec": {
      "name": "python3",
      "display_name": "Python 3"
    },
    "language_info": {
      "name": "python"
    }
  },
  "cells": [
    {
      "cell_type": "markdown",
      "source": [
        "### Bag of Words"
      ],
      "metadata": {
        "id": "5fG2PX5kMNXO"
      }
    },
    {
      "cell_type": "code",
      "execution_count": 1,
      "metadata": {
        "id": "TIwJu_oD_wmn"
      },
      "outputs": [],
      "source": [
        "import pandas as pd"
      ]
    },
    {
      "cell_type": "code",
      "source": [
        "df = pd.DataFrame({'text_data':['This meal is very tasty and affordable',\n",
        "                                'This meal is not tasty and is affordable',\n",
        "                                'This meal is delicious and cheap',\n",
        "                                'meal is tasty and meal tastes good'],\n",
        "                   'output': [1, 0, 1, 1]})\n",
        "\n",
        "df"
      ],
      "metadata": {
        "colab": {
          "base_uri": "https://localhost:8080/",
          "height": 175
        },
        "id": "fE9tF1s__5nD",
        "outputId": "f678dbc6-117e-489b-aa47-aef514737ecd"
      },
      "execution_count": 2,
      "outputs": [
        {
          "output_type": "execute_result",
          "data": {
            "text/plain": [
              "                                  text_data  output\n",
              "0    This meal is very tasty and affordable       1\n",
              "1  This meal is not tasty and is affordable       0\n",
              "2          This meal is delicious and cheap       1\n",
              "3        meal is tasty and meal tastes good       1"
            ],
            "text/html": [
              "\n",
              "  <div id=\"df-cff58ec9-c326-4d7c-9861-c4bfe84af532\" class=\"colab-df-container\">\n",
              "    <div>\n",
              "<style scoped>\n",
              "    .dataframe tbody tr th:only-of-type {\n",
              "        vertical-align: middle;\n",
              "    }\n",
              "\n",
              "    .dataframe tbody tr th {\n",
              "        vertical-align: top;\n",
              "    }\n",
              "\n",
              "    .dataframe thead th {\n",
              "        text-align: right;\n",
              "    }\n",
              "</style>\n",
              "<table border=\"1\" class=\"dataframe\">\n",
              "  <thead>\n",
              "    <tr style=\"text-align: right;\">\n",
              "      <th></th>\n",
              "      <th>text_data</th>\n",
              "      <th>output</th>\n",
              "    </tr>\n",
              "  </thead>\n",
              "  <tbody>\n",
              "    <tr>\n",
              "      <th>0</th>\n",
              "      <td>This meal is very tasty and affordable</td>\n",
              "      <td>1</td>\n",
              "    </tr>\n",
              "    <tr>\n",
              "      <th>1</th>\n",
              "      <td>This meal is not tasty and is affordable</td>\n",
              "      <td>0</td>\n",
              "    </tr>\n",
              "    <tr>\n",
              "      <th>2</th>\n",
              "      <td>This meal is delicious and cheap</td>\n",
              "      <td>1</td>\n",
              "    </tr>\n",
              "    <tr>\n",
              "      <th>3</th>\n",
              "      <td>meal is tasty and meal tastes good</td>\n",
              "      <td>1</td>\n",
              "    </tr>\n",
              "  </tbody>\n",
              "</table>\n",
              "</div>\n",
              "    <div class=\"colab-df-buttons\">\n",
              "\n",
              "  <div class=\"colab-df-container\">\n",
              "    <button class=\"colab-df-convert\" onclick=\"convertToInteractive('df-cff58ec9-c326-4d7c-9861-c4bfe84af532')\"\n",
              "            title=\"Convert this dataframe to an interactive table.\"\n",
              "            style=\"display:none;\">\n",
              "\n",
              "  <svg xmlns=\"http://www.w3.org/2000/svg\" height=\"24px\" viewBox=\"0 -960 960 960\">\n",
              "    <path d=\"M120-120v-720h720v720H120Zm60-500h600v-160H180v160Zm220 220h160v-160H400v160Zm0 220h160v-160H400v160ZM180-400h160v-160H180v160Zm440 0h160v-160H620v160ZM180-180h160v-160H180v160Zm440 0h160v-160H620v160Z\"/>\n",
              "  </svg>\n",
              "    </button>\n",
              "\n",
              "  <style>\n",
              "    .colab-df-container {\n",
              "      display:flex;\n",
              "      gap: 12px;\n",
              "    }\n",
              "\n",
              "    .colab-df-convert {\n",
              "      background-color: #E8F0FE;\n",
              "      border: none;\n",
              "      border-radius: 50%;\n",
              "      cursor: pointer;\n",
              "      display: none;\n",
              "      fill: #1967D2;\n",
              "      height: 32px;\n",
              "      padding: 0 0 0 0;\n",
              "      width: 32px;\n",
              "    }\n",
              "\n",
              "    .colab-df-convert:hover {\n",
              "      background-color: #E2EBFA;\n",
              "      box-shadow: 0px 1px 2px rgba(60, 64, 67, 0.3), 0px 1px 3px 1px rgba(60, 64, 67, 0.15);\n",
              "      fill: #174EA6;\n",
              "    }\n",
              "\n",
              "    .colab-df-buttons div {\n",
              "      margin-bottom: 4px;\n",
              "    }\n",
              "\n",
              "    [theme=dark] .colab-df-convert {\n",
              "      background-color: #3B4455;\n",
              "      fill: #D2E3FC;\n",
              "    }\n",
              "\n",
              "    [theme=dark] .colab-df-convert:hover {\n",
              "      background-color: #434B5C;\n",
              "      box-shadow: 0px 1px 3px 1px rgba(0, 0, 0, 0.15);\n",
              "      filter: drop-shadow(0px 1px 2px rgba(0, 0, 0, 0.3));\n",
              "      fill: #FFFFFF;\n",
              "    }\n",
              "  </style>\n",
              "\n",
              "    <script>\n",
              "      const buttonEl =\n",
              "        document.querySelector('#df-cff58ec9-c326-4d7c-9861-c4bfe84af532 button.colab-df-convert');\n",
              "      buttonEl.style.display =\n",
              "        google.colab.kernel.accessAllowed ? 'block' : 'none';\n",
              "\n",
              "      async function convertToInteractive(key) {\n",
              "        const element = document.querySelector('#df-cff58ec9-c326-4d7c-9861-c4bfe84af532');\n",
              "        const dataTable =\n",
              "          await google.colab.kernel.invokeFunction('convertToInteractive',\n",
              "                                                    [key], {});\n",
              "        if (!dataTable) return;\n",
              "\n",
              "        const docLinkHtml = 'Like what you see? Visit the ' +\n",
              "          '<a target=\"_blank\" href=https://colab.research.google.com/notebooks/data_table.ipynb>data table notebook</a>'\n",
              "          + ' to learn more about interactive tables.';\n",
              "        element.innerHTML = '';\n",
              "        dataTable['output_type'] = 'display_data';\n",
              "        await google.colab.output.renderOutput(dataTable, element);\n",
              "        const docLink = document.createElement('div');\n",
              "        docLink.innerHTML = docLinkHtml;\n",
              "        element.appendChild(docLink);\n",
              "      }\n",
              "    </script>\n",
              "  </div>\n",
              "\n",
              "\n",
              "<div id=\"df-ed2c7619-fc2a-46ab-986c-5ccfea5ccfb0\">\n",
              "  <button class=\"colab-df-quickchart\" onclick=\"quickchart('df-ed2c7619-fc2a-46ab-986c-5ccfea5ccfb0')\"\n",
              "            title=\"Suggest charts\"\n",
              "            style=\"display:none;\">\n",
              "\n",
              "<svg xmlns=\"http://www.w3.org/2000/svg\" height=\"24px\"viewBox=\"0 0 24 24\"\n",
              "     width=\"24px\">\n",
              "    <g>\n",
              "        <path d=\"M19 3H5c-1.1 0-2 .9-2 2v14c0 1.1.9 2 2 2h14c1.1 0 2-.9 2-2V5c0-1.1-.9-2-2-2zM9 17H7v-7h2v7zm4 0h-2V7h2v10zm4 0h-2v-4h2v4z\"/>\n",
              "    </g>\n",
              "</svg>\n",
              "  </button>\n",
              "\n",
              "<style>\n",
              "  .colab-df-quickchart {\n",
              "      --bg-color: #E8F0FE;\n",
              "      --fill-color: #1967D2;\n",
              "      --hover-bg-color: #E2EBFA;\n",
              "      --hover-fill-color: #174EA6;\n",
              "      --disabled-fill-color: #AAA;\n",
              "      --disabled-bg-color: #DDD;\n",
              "  }\n",
              "\n",
              "  [theme=dark] .colab-df-quickchart {\n",
              "      --bg-color: #3B4455;\n",
              "      --fill-color: #D2E3FC;\n",
              "      --hover-bg-color: #434B5C;\n",
              "      --hover-fill-color: #FFFFFF;\n",
              "      --disabled-bg-color: #3B4455;\n",
              "      --disabled-fill-color: #666;\n",
              "  }\n",
              "\n",
              "  .colab-df-quickchart {\n",
              "    background-color: var(--bg-color);\n",
              "    border: none;\n",
              "    border-radius: 50%;\n",
              "    cursor: pointer;\n",
              "    display: none;\n",
              "    fill: var(--fill-color);\n",
              "    height: 32px;\n",
              "    padding: 0;\n",
              "    width: 32px;\n",
              "  }\n",
              "\n",
              "  .colab-df-quickchart:hover {\n",
              "    background-color: var(--hover-bg-color);\n",
              "    box-shadow: 0 1px 2px rgba(60, 64, 67, 0.3), 0 1px 3px 1px rgba(60, 64, 67, 0.15);\n",
              "    fill: var(--button-hover-fill-color);\n",
              "  }\n",
              "\n",
              "  .colab-df-quickchart-complete:disabled,\n",
              "  .colab-df-quickchart-complete:disabled:hover {\n",
              "    background-color: var(--disabled-bg-color);\n",
              "    fill: var(--disabled-fill-color);\n",
              "    box-shadow: none;\n",
              "  }\n",
              "\n",
              "  .colab-df-spinner {\n",
              "    border: 2px solid var(--fill-color);\n",
              "    border-color: transparent;\n",
              "    border-bottom-color: var(--fill-color);\n",
              "    animation:\n",
              "      spin 1s steps(1) infinite;\n",
              "  }\n",
              "\n",
              "  @keyframes spin {\n",
              "    0% {\n",
              "      border-color: transparent;\n",
              "      border-bottom-color: var(--fill-color);\n",
              "      border-left-color: var(--fill-color);\n",
              "    }\n",
              "    20% {\n",
              "      border-color: transparent;\n",
              "      border-left-color: var(--fill-color);\n",
              "      border-top-color: var(--fill-color);\n",
              "    }\n",
              "    30% {\n",
              "      border-color: transparent;\n",
              "      border-left-color: var(--fill-color);\n",
              "      border-top-color: var(--fill-color);\n",
              "      border-right-color: var(--fill-color);\n",
              "    }\n",
              "    40% {\n",
              "      border-color: transparent;\n",
              "      border-right-color: var(--fill-color);\n",
              "      border-top-color: var(--fill-color);\n",
              "    }\n",
              "    60% {\n",
              "      border-color: transparent;\n",
              "      border-right-color: var(--fill-color);\n",
              "    }\n",
              "    80% {\n",
              "      border-color: transparent;\n",
              "      border-right-color: var(--fill-color);\n",
              "      border-bottom-color: var(--fill-color);\n",
              "    }\n",
              "    90% {\n",
              "      border-color: transparent;\n",
              "      border-bottom-color: var(--fill-color);\n",
              "    }\n",
              "  }\n",
              "</style>\n",
              "\n",
              "  <script>\n",
              "    async function quickchart(key) {\n",
              "      const quickchartButtonEl =\n",
              "        document.querySelector('#' + key + ' button');\n",
              "      quickchartButtonEl.disabled = true;  // To prevent multiple clicks.\n",
              "      quickchartButtonEl.classList.add('colab-df-spinner');\n",
              "      try {\n",
              "        const charts = await google.colab.kernel.invokeFunction(\n",
              "            'suggestCharts', [key], {});\n",
              "      } catch (error) {\n",
              "        console.error('Error during call to suggestCharts:', error);\n",
              "      }\n",
              "      quickchartButtonEl.classList.remove('colab-df-spinner');\n",
              "      quickchartButtonEl.classList.add('colab-df-quickchart-complete');\n",
              "    }\n",
              "    (() => {\n",
              "      let quickchartButtonEl =\n",
              "        document.querySelector('#df-ed2c7619-fc2a-46ab-986c-5ccfea5ccfb0 button');\n",
              "      quickchartButtonEl.style.display =\n",
              "        google.colab.kernel.accessAllowed ? 'block' : 'none';\n",
              "    })();\n",
              "  </script>\n",
              "</div>\n",
              "\n",
              "  <div id=\"id_e12c548d-e0ee-406a-8e79-c522413124d0\">\n",
              "    <style>\n",
              "      .colab-df-generate {\n",
              "        background-color: #E8F0FE;\n",
              "        border: none;\n",
              "        border-radius: 50%;\n",
              "        cursor: pointer;\n",
              "        display: none;\n",
              "        fill: #1967D2;\n",
              "        height: 32px;\n",
              "        padding: 0 0 0 0;\n",
              "        width: 32px;\n",
              "      }\n",
              "\n",
              "      .colab-df-generate:hover {\n",
              "        background-color: #E2EBFA;\n",
              "        box-shadow: 0px 1px 2px rgba(60, 64, 67, 0.3), 0px 1px 3px 1px rgba(60, 64, 67, 0.15);\n",
              "        fill: #174EA6;\n",
              "      }\n",
              "\n",
              "      [theme=dark] .colab-df-generate {\n",
              "        background-color: #3B4455;\n",
              "        fill: #D2E3FC;\n",
              "      }\n",
              "\n",
              "      [theme=dark] .colab-df-generate:hover {\n",
              "        background-color: #434B5C;\n",
              "        box-shadow: 0px 1px 3px 1px rgba(0, 0, 0, 0.15);\n",
              "        filter: drop-shadow(0px 1px 2px rgba(0, 0, 0, 0.3));\n",
              "        fill: #FFFFFF;\n",
              "      }\n",
              "    </style>\n",
              "    <button class=\"colab-df-generate\" onclick=\"generateWithVariable('df')\"\n",
              "            title=\"Generate code using this dataframe.\"\n",
              "            style=\"display:none;\">\n",
              "\n",
              "  <svg xmlns=\"http://www.w3.org/2000/svg\" height=\"24px\"viewBox=\"0 0 24 24\"\n",
              "       width=\"24px\">\n",
              "    <path d=\"M7,19H8.4L18.45,9,17,7.55,7,17.6ZM5,21V16.75L18.45,3.32a2,2,0,0,1,2.83,0l1.4,1.43a1.91,1.91,0,0,1,.58,1.4,1.91,1.91,0,0,1-.58,1.4L9.25,21ZM18.45,9,17,7.55Zm-12,3A5.31,5.31,0,0,0,4.9,8.1,5.31,5.31,0,0,0,1,6.5,5.31,5.31,0,0,0,4.9,4.9,5.31,5.31,0,0,0,6.5,1,5.31,5.31,0,0,0,8.1,4.9,5.31,5.31,0,0,0,12,6.5,5.46,5.46,0,0,0,6.5,12Z\"/>\n",
              "  </svg>\n",
              "    </button>\n",
              "    <script>\n",
              "      (() => {\n",
              "      const buttonEl =\n",
              "        document.querySelector('#id_e12c548d-e0ee-406a-8e79-c522413124d0 button.colab-df-generate');\n",
              "      buttonEl.style.display =\n",
              "        google.colab.kernel.accessAllowed ? 'block' : 'none';\n",
              "\n",
              "      buttonEl.onclick = () => {\n",
              "        google.colab.notebook.generateWithVariable('df');\n",
              "      }\n",
              "      })();\n",
              "    </script>\n",
              "  </div>\n",
              "\n",
              "    </div>\n",
              "  </div>\n"
            ],
            "application/vnd.google.colaboratory.intrinsic+json": {
              "type": "dataframe",
              "variable_name": "df",
              "summary": "{\n  \"name\": \"df\",\n  \"rows\": 4,\n  \"fields\": [\n    {\n      \"column\": \"text_data\",\n      \"properties\": {\n        \"dtype\": \"string\",\n        \"num_unique_values\": 4,\n        \"samples\": [\n          \"This meal is not tasty and is affordable\",\n          \"meal is tasty and meal tastes good\",\n          \"This meal is very tasty and affordable\"\n        ],\n        \"semantic_type\": \"\",\n        \"description\": \"\"\n      }\n    },\n    {\n      \"column\": \"output\",\n      \"properties\": {\n        \"dtype\": \"number\",\n        \"std\": 0,\n        \"min\": 0,\n        \"max\": 1,\n        \"num_unique_values\": 2,\n        \"samples\": [\n          0,\n          1\n        ],\n        \"semantic_type\": \"\",\n        \"description\": \"\"\n      }\n    }\n  ]\n}"
            }
          },
          "metadata": {},
          "execution_count": 2
        }
      ]
    },
    {
      "cell_type": "code",
      "source": [
        "df.info()"
      ],
      "metadata": {
        "colab": {
          "base_uri": "https://localhost:8080/"
        },
        "id": "zVoSpL9oALqW",
        "outputId": "2c38bfa1-ef58-49cb-ad31-824400d59286"
      },
      "execution_count": 3,
      "outputs": [
        {
          "output_type": "stream",
          "name": "stdout",
          "text": [
            "<class 'pandas.core.frame.DataFrame'>\n",
            "RangeIndex: 4 entries, 0 to 3\n",
            "Data columns (total 2 columns):\n",
            " #   Column     Non-Null Count  Dtype \n",
            "---  ------     --------------  ----- \n",
            " 0   text_data  4 non-null      object\n",
            " 1   output     4 non-null      int64 \n",
            "dtypes: int64(1), object(1)\n",
            "memory usage: 192.0+ bytes\n"
          ]
        }
      ]
    },
    {
      "cell_type": "code",
      "source": [
        "# feature extraction method - bag of words - countvectorization\n",
        "from sklearn.feature_extraction.text import CountVectorizer\n",
        "\n",
        "cv = CountVectorizer() # Frequency BOW\n",
        "cv1 = CountVectorizer(binary = True) # Binary BOW"
      ],
      "metadata": {
        "id": "oLcgkRV4AXR6"
      },
      "execution_count": 4,
      "outputs": []
    },
    {
      "cell_type": "code",
      "source": [
        "BOW = cv.fit_transform(df['text_data'])\n",
        "print(cv.vocabulary_)"
      ],
      "metadata": {
        "colab": {
          "base_uri": "https://localhost:8080/"
        },
        "id": "D2tgXz98Al3_",
        "outputId": "0397f49a-8531-4f5d-f54a-f9c17382d4e0"
      },
      "execution_count": 5,
      "outputs": [
        {
          "output_type": "stream",
          "name": "stdout",
          "text": [
            "{'this': 10, 'meal': 6, 'is': 5, 'very': 11, 'tasty': 9, 'and': 1, 'affordable': 0, 'not': 7, 'delicious': 3, 'cheap': 2, 'tastes': 8, 'good': 4}\n"
          ]
        }
      ]
    },
    {
      "cell_type": "code",
      "source": [
        "BOW1 = cv1.fit_transform(df['text_data'])\n",
        "print(cv1.vocabulary_)"
      ],
      "metadata": {
        "colab": {
          "base_uri": "https://localhost:8080/"
        },
        "id": "sTFxdKbzBrEk",
        "outputId": "57a010e0-aed6-4a5c-a442-73dfebd5aacb"
      },
      "execution_count": 6,
      "outputs": [
        {
          "output_type": "stream",
          "name": "stdout",
          "text": [
            "{'this': 10, 'meal': 6, 'is': 5, 'very': 11, 'tasty': 9, 'and': 1, 'affordable': 0, 'not': 7, 'delicious': 3, 'cheap': 2, 'tastes': 8, 'good': 4}\n"
          ]
        }
      ]
    },
    {
      "cell_type": "code",
      "source": [
        "BOW.toarray() # It created a sparse matrix"
      ],
      "metadata": {
        "colab": {
          "base_uri": "https://localhost:8080/"
        },
        "id": "KD9mhvQkCBQl",
        "outputId": "eda513a6-c785-489b-e08c-de1ac6864762"
      },
      "execution_count": 7,
      "outputs": [
        {
          "output_type": "execute_result",
          "data": {
            "text/plain": [
              "array([[1, 1, 0, 0, 0, 1, 1, 0, 0, 1, 1, 1],\n",
              "       [1, 1, 0, 0, 0, 2, 1, 1, 0, 1, 1, 0],\n",
              "       [0, 1, 1, 1, 0, 1, 1, 0, 0, 0, 1, 0],\n",
              "       [0, 1, 0, 0, 1, 1, 2, 0, 1, 1, 0, 0]])"
            ]
          },
          "metadata": {},
          "execution_count": 7
        }
      ]
    },
    {
      "cell_type": "code",
      "source": [
        "BOW1.toarray()"
      ],
      "metadata": {
        "colab": {
          "base_uri": "https://localhost:8080/"
        },
        "id": "FJ5q9C4LCKX4",
        "outputId": "25b36a46-cb41-4884-c0dd-cb198ec719b6"
      },
      "execution_count": 8,
      "outputs": [
        {
          "output_type": "execute_result",
          "data": {
            "text/plain": [
              "array([[1, 1, 0, 0, 0, 1, 1, 0, 0, 1, 1, 1],\n",
              "       [1, 1, 0, 0, 0, 1, 1, 1, 0, 1, 1, 0],\n",
              "       [0, 1, 1, 1, 0, 1, 1, 0, 0, 0, 1, 0],\n",
              "       [0, 1, 0, 0, 1, 1, 1, 0, 1, 1, 0, 0]])"
            ]
          },
          "metadata": {},
          "execution_count": 8
        }
      ]
    },
    {
      "cell_type": "markdown",
      "source": [
        "### N-gram"
      ],
      "metadata": {
        "id": "sRaUphQfMVjR"
      }
    },
    {
      "cell_type": "code",
      "source": [
        "# CountVectorizer(ngram_range=(1, 1), binary = True) # uni-gram is Binary BOW\n",
        "# Bi-gram (ngram_range=(2, 2))"
      ],
      "metadata": {
        "id": "QDA1qmSCEE6j"
      },
      "execution_count": 9,
      "outputs": []
    },
    {
      "cell_type": "code",
      "source": [
        "cv = CountVectorizer(ngram_range = (1,1), binary =True)\n",
        "BOW = cv.fit_transform(df['text_data'])\n",
        "print(cv.vocabulary_)"
      ],
      "metadata": {
        "colab": {
          "base_uri": "https://localhost:8080/"
        },
        "id": "7kbiZ26-Fuyy",
        "outputId": "d93e7dd1-57ab-49a0-9b03-4346b1fb008b"
      },
      "execution_count": 10,
      "outputs": [
        {
          "output_type": "stream",
          "name": "stdout",
          "text": [
            "{'this': 10, 'meal': 6, 'is': 5, 'very': 11, 'tasty': 9, 'and': 1, 'affordable': 0, 'not': 7, 'delicious': 3, 'cheap': 2, 'tastes': 8, 'good': 4}\n"
          ]
        }
      ]
    },
    {
      "cell_type": "code",
      "source": [
        "# bi-gram\n",
        "cv = CountVectorizer(ngram_range=(2,2), binary=True)\n",
        "BOW = cv.fit_transform(df['text_data'])\n",
        "print(cv.vocabulary_)\n",
        "print(BOW.toarray())"
      ],
      "metadata": {
        "colab": {
          "base_uri": "https://localhost:8080/"
        },
        "id": "crUbeh70GZb4",
        "outputId": "425a1f37-2ed9-4315-c058-4c24ad261f3a"
      },
      "execution_count": 11,
      "outputs": [
        {
          "output_type": "stream",
          "name": "stdout",
          "text": [
            "{'this meal': 15, 'meal is': 10, 'is very': 9, 'very tasty': 16, 'tasty and': 14, 'and affordable': 0, 'is not': 7, 'not tasty': 12, 'and is': 2, 'is affordable': 5, 'is delicious': 6, 'delicious and': 4, 'and cheap': 1, 'is tasty': 8, 'and meal': 3, 'meal tastes': 11, 'tastes good': 13}\n",
            "[[1 0 0 0 0 0 0 0 0 1 1 0 0 0 1 1 1]\n",
            " [0 0 1 0 0 1 0 1 0 0 1 0 1 0 1 1 0]\n",
            " [0 1 0 0 1 0 1 0 0 0 1 0 0 0 0 1 0]\n",
            " [0 0 0 1 0 0 0 0 1 0 1 1 0 1 1 0 0]]\n"
          ]
        }
      ]
    },
    {
      "cell_type": "code",
      "source": [
        "# uni & bi-gram\n",
        "cv = CountVectorizer(ngram_range=(1,2), binary=True)\n",
        "BOW = cv.fit_transform(df['text_data'])\n",
        "print(cv.vocabulary_)\n",
        "print(BOW.toarray())"
      ],
      "metadata": {
        "colab": {
          "base_uri": "https://localhost:8080/"
        },
        "id": "vEa3cJSdGybs",
        "outputId": "3fd16bb3-a67a-42b7-e71b-4fd7777076f1"
      },
      "execution_count": 12,
      "outputs": [
        {
          "output_type": "stream",
          "name": "stdout",
          "text": [
            "{'this': 25, 'meal': 16, 'is': 10, 'very': 27, 'tasty': 23, 'and': 1, 'affordable': 0, 'this meal': 26, 'meal is': 17, 'is very': 15, 'very tasty': 28, 'tasty and': 24, 'and affordable': 2, 'not': 19, 'is not': 13, 'not tasty': 20, 'and is': 4, 'is affordable': 11, 'delicious': 7, 'cheap': 6, 'is delicious': 12, 'delicious and': 8, 'and cheap': 3, 'tastes': 21, 'good': 9, 'is tasty': 14, 'and meal': 5, 'meal tastes': 18, 'tastes good': 22}\n",
            "[[1 1 1 0 0 0 0 0 0 0 1 0 0 0 0 1 1 1 0 0 0 0 0 1 1 1 1 1 1]\n",
            " [1 1 0 0 1 0 0 0 0 0 1 1 0 1 0 0 1 1 0 1 1 0 0 1 1 1 1 0 0]\n",
            " [0 1 0 1 0 0 1 1 1 0 1 0 1 0 0 0 1 1 0 0 0 0 0 0 0 1 1 0 0]\n",
            " [0 1 0 0 0 1 0 0 0 1 1 0 0 0 1 0 1 1 1 0 0 1 1 1 1 0 0 0 0]]\n"
          ]
        }
      ]
    },
    {
      "cell_type": "code",
      "source": [
        "# tri-gram\n",
        "cv = CountVectorizer(ngram_range=(3,3), binary=True)\n",
        "BOW = cv.fit_transform(df['text_data'])\n",
        "print(cv.vocabulary_)\n",
        "print(BOW.toarray())"
      ],
      "metadata": {
        "colab": {
          "base_uri": "https://localhost:8080/"
        },
        "id": "13wV4k0UJ-5z",
        "outputId": "f3b2648e-aadd-44ee-c470-a40875601a02"
      },
      "execution_count": 13,
      "outputs": [
        {
          "output_type": "stream",
          "name": "stdout",
          "text": [
            "{'this meal is': 16, 'meal is very': 10, 'is very tasty': 6, 'very tasty and': 17, 'tasty and affordable': 13, 'meal is not': 8, 'is not tasty': 4, 'not tasty and': 12, 'tasty and is': 14, 'and is affordable': 0, 'meal is delicious': 7, 'is delicious and': 3, 'delicious and cheap': 2, 'meal is tasty': 9, 'is tasty and': 5, 'tasty and meal': 15, 'and meal tastes': 1, 'meal tastes good': 11}\n",
            "[[0 0 0 0 0 0 1 0 0 0 1 0 0 1 0 0 1 1]\n",
            " [1 0 0 0 1 0 0 0 1 0 0 0 1 0 1 0 1 0]\n",
            " [0 0 1 1 0 0 0 1 0 0 0 0 0 0 0 0 1 0]\n",
            " [0 1 0 0 0 1 0 0 0 1 0 1 0 0 0 1 0 0]]\n"
          ]
        }
      ]
    },
    {
      "cell_type": "code",
      "source": [
        "# uni, bi & tri-gram\n",
        "cv = CountVectorizer(ngram_range=(2,3), binary=True)\n",
        "BOW = cv.fit_transform(df['text_data'])\n",
        "print(cv.vocabulary_)\n",
        "print(BOW.toarray())"
      ],
      "metadata": {
        "colab": {
          "base_uri": "https://localhost:8080/"
        },
        "id": "HeWQqtcYKnTl",
        "outputId": "37d8f9ce-87a9-4b4e-e5d3-4b6a600a94d0"
      },
      "execution_count": 14,
      "outputs": [
        {
          "output_type": "stream",
          "name": "stdout",
          "text": [
            "{'this meal': 31, 'meal is': 17, 'is very': 15, 'very tasty': 33, 'tasty and': 27, 'and affordable': 0, 'this meal is': 32, 'meal is very': 21, 'is very tasty': 16, 'very tasty and': 34, 'tasty and affordable': 28, 'is not': 11, 'not tasty': 24, 'and is': 2, 'is affordable': 8, 'meal is not': 19, 'is not tasty': 12, 'not tasty and': 25, 'tasty and is': 29, 'and is affordable': 3, 'is delicious': 9, 'delicious and': 6, 'and cheap': 1, 'meal is delicious': 18, 'is delicious and': 10, 'delicious and cheap': 7, 'is tasty': 13, 'and meal': 4, 'meal tastes': 22, 'tastes good': 26, 'meal is tasty': 20, 'is tasty and': 14, 'tasty and meal': 30, 'and meal tastes': 5, 'meal tastes good': 23}\n",
            "[[1 0 0 0 0 0 0 0 0 0 0 0 0 0 0 1 1 1 0 0 0 1 0 0 0 0 0 1 1 0 0 1 1 1 1]\n",
            " [0 0 1 1 0 0 0 0 1 0 0 1 1 0 0 0 0 1 0 1 0 0 0 0 1 1 0 1 0 1 0 1 1 0 0]\n",
            " [0 1 0 0 0 0 1 1 0 1 1 0 0 0 0 0 0 1 1 0 0 0 0 0 0 0 0 0 0 0 0 1 1 0 0]\n",
            " [0 0 0 0 1 1 0 0 0 0 0 0 0 1 1 0 0 1 0 0 1 0 1 1 0 0 1 1 0 0 1 0 0 0 0]]\n"
          ]
        }
      ]
    },
    {
      "cell_type": "code",
      "source": [
        "# bi-gram & tri-gram\n",
        "cv = CountVectorizer(ngram_range=(1,3), binary=True)\n",
        "BOW = cv.fit_transform(df['text_data'])\n",
        "print(cv.vocabulary_)\n",
        "print(BOW.toarray())"
      ],
      "metadata": {
        "colab": {
          "base_uri": "https://localhost:8080/"
        },
        "id": "SZdbDgG3KsUv",
        "outputId": "4a66074f-8dd1-4a1e-b64e-49d238be904f"
      },
      "execution_count": 15,
      "outputs": [
        {
          "output_type": "stream",
          "name": "stdout",
          "text": [
            "{'this': 41, 'meal': 23, 'is': 13, 'very': 44, 'tasty': 36, 'and': 1, 'affordable': 0, 'this meal': 42, 'meal is': 24, 'is very': 21, 'very tasty': 45, 'tasty and': 37, 'and affordable': 2, 'this meal is': 43, 'meal is very': 28, 'is very tasty': 22, 'very tasty and': 46, 'tasty and affordable': 38, 'not': 31, 'is not': 17, 'not tasty': 32, 'and is': 4, 'is affordable': 14, 'meal is not': 26, 'is not tasty': 18, 'not tasty and': 33, 'tasty and is': 39, 'and is affordable': 5, 'delicious': 9, 'cheap': 8, 'is delicious': 15, 'delicious and': 10, 'and cheap': 3, 'meal is delicious': 25, 'is delicious and': 16, 'delicious and cheap': 11, 'tastes': 34, 'good': 12, 'is tasty': 19, 'and meal': 6, 'meal tastes': 29, 'tastes good': 35, 'meal is tasty': 27, 'is tasty and': 20, 'tasty and meal': 40, 'and meal tastes': 7, 'meal tastes good': 30}\n",
            "[[1 1 1 0 0 0 0 0 0 0 0 0 0 1 0 0 0 0 0 0 0 1 1 1 1 0 0 0 1 0 0 0 0 0 0 0\n",
            "  1 1 1 0 0 1 1 1 1 1 1]\n",
            " [1 1 0 0 1 1 0 0 0 0 0 0 0 1 1 0 0 1 1 0 0 0 0 1 1 0 1 0 0 0 0 1 1 1 0 0\n",
            "  1 1 0 1 0 1 1 1 0 0 0]\n",
            " [0 1 0 1 0 0 0 0 1 1 1 1 0 1 0 1 1 0 0 0 0 0 0 1 1 1 0 0 0 0 0 0 0 0 0 0\n",
            "  0 0 0 0 0 1 1 1 0 0 0]\n",
            " [0 1 0 0 0 0 1 1 0 0 0 0 1 1 0 0 0 0 0 1 1 0 0 1 1 0 0 1 0 1 1 0 0 0 1 1\n",
            "  1 1 0 0 1 0 0 0 0 0 0]]\n"
          ]
        }
      ]
    },
    {
      "cell_type": "code",
      "source": [
        "cv = CountVectorizer(ngram_range=(1,3), binary=True)\n",
        "feature_vector = cv.fit(df['text_data'])\n",
        "feature_names = cv.get_feature_names_out()\n",
        "BOW = cv.transform(df['text_data'])\n",
        "pd.DataFrame(BOW.toarray(), columns=feature_names)"
      ],
      "metadata": {
        "colab": {
          "base_uri": "https://localhost:8080/",
          "height": 259
        },
        "id": "h4juGYWqK2U1",
        "outputId": "a2da5516-2825-4ea8-e52a-ca792a472004"
      },
      "execution_count": 17,
      "outputs": [
        {
          "output_type": "execute_result",
          "data": {
            "text/plain": [
              "   affordable  and  and affordable  and cheap  and is  and is affordable  \\\n",
              "0           1    1               1          0       0                  0   \n",
              "1           1    1               0          0       1                  1   \n",
              "2           0    1               0          1       0                  0   \n",
              "3           0    1               0          0       0                  0   \n",
              "\n",
              "   and meal  and meal tastes  cheap  delicious  ...  tasty and  \\\n",
              "0         0                0      0          0  ...          1   \n",
              "1         0                0      0          0  ...          1   \n",
              "2         0                0      1          1  ...          0   \n",
              "3         1                1      0          0  ...          1   \n",
              "\n",
              "   tasty and affordable  tasty and is  tasty and meal  this  this meal  \\\n",
              "0                     1             0               0     1          1   \n",
              "1                     0             1               0     1          1   \n",
              "2                     0             0               0     1          1   \n",
              "3                     0             0               1     0          0   \n",
              "\n",
              "   this meal is  very  very tasty  very tasty and  \n",
              "0             1     1           1               1  \n",
              "1             1     0           0               0  \n",
              "2             1     0           0               0  \n",
              "3             0     0           0               0  \n",
              "\n",
              "[4 rows x 47 columns]"
            ],
            "text/html": [
              "\n",
              "  <div id=\"df-b2cf7324-812f-45e5-a1ea-2b40e5ebfc72\" class=\"colab-df-container\">\n",
              "    <div>\n",
              "<style scoped>\n",
              "    .dataframe tbody tr th:only-of-type {\n",
              "        vertical-align: middle;\n",
              "    }\n",
              "\n",
              "    .dataframe tbody tr th {\n",
              "        vertical-align: top;\n",
              "    }\n",
              "\n",
              "    .dataframe thead th {\n",
              "        text-align: right;\n",
              "    }\n",
              "</style>\n",
              "<table border=\"1\" class=\"dataframe\">\n",
              "  <thead>\n",
              "    <tr style=\"text-align: right;\">\n",
              "      <th></th>\n",
              "      <th>affordable</th>\n",
              "      <th>and</th>\n",
              "      <th>and affordable</th>\n",
              "      <th>and cheap</th>\n",
              "      <th>and is</th>\n",
              "      <th>and is affordable</th>\n",
              "      <th>and meal</th>\n",
              "      <th>and meal tastes</th>\n",
              "      <th>cheap</th>\n",
              "      <th>delicious</th>\n",
              "      <th>...</th>\n",
              "      <th>tasty and</th>\n",
              "      <th>tasty and affordable</th>\n",
              "      <th>tasty and is</th>\n",
              "      <th>tasty and meal</th>\n",
              "      <th>this</th>\n",
              "      <th>this meal</th>\n",
              "      <th>this meal is</th>\n",
              "      <th>very</th>\n",
              "      <th>very tasty</th>\n",
              "      <th>very tasty and</th>\n",
              "    </tr>\n",
              "  </thead>\n",
              "  <tbody>\n",
              "    <tr>\n",
              "      <th>0</th>\n",
              "      <td>1</td>\n",
              "      <td>1</td>\n",
              "      <td>1</td>\n",
              "      <td>0</td>\n",
              "      <td>0</td>\n",
              "      <td>0</td>\n",
              "      <td>0</td>\n",
              "      <td>0</td>\n",
              "      <td>0</td>\n",
              "      <td>0</td>\n",
              "      <td>...</td>\n",
              "      <td>1</td>\n",
              "      <td>1</td>\n",
              "      <td>0</td>\n",
              "      <td>0</td>\n",
              "      <td>1</td>\n",
              "      <td>1</td>\n",
              "      <td>1</td>\n",
              "      <td>1</td>\n",
              "      <td>1</td>\n",
              "      <td>1</td>\n",
              "    </tr>\n",
              "    <tr>\n",
              "      <th>1</th>\n",
              "      <td>1</td>\n",
              "      <td>1</td>\n",
              "      <td>0</td>\n",
              "      <td>0</td>\n",
              "      <td>1</td>\n",
              "      <td>1</td>\n",
              "      <td>0</td>\n",
              "      <td>0</td>\n",
              "      <td>0</td>\n",
              "      <td>0</td>\n",
              "      <td>...</td>\n",
              "      <td>1</td>\n",
              "      <td>0</td>\n",
              "      <td>1</td>\n",
              "      <td>0</td>\n",
              "      <td>1</td>\n",
              "      <td>1</td>\n",
              "      <td>1</td>\n",
              "      <td>0</td>\n",
              "      <td>0</td>\n",
              "      <td>0</td>\n",
              "    </tr>\n",
              "    <tr>\n",
              "      <th>2</th>\n",
              "      <td>0</td>\n",
              "      <td>1</td>\n",
              "      <td>0</td>\n",
              "      <td>1</td>\n",
              "      <td>0</td>\n",
              "      <td>0</td>\n",
              "      <td>0</td>\n",
              "      <td>0</td>\n",
              "      <td>1</td>\n",
              "      <td>1</td>\n",
              "      <td>...</td>\n",
              "      <td>0</td>\n",
              "      <td>0</td>\n",
              "      <td>0</td>\n",
              "      <td>0</td>\n",
              "      <td>1</td>\n",
              "      <td>1</td>\n",
              "      <td>1</td>\n",
              "      <td>0</td>\n",
              "      <td>0</td>\n",
              "      <td>0</td>\n",
              "    </tr>\n",
              "    <tr>\n",
              "      <th>3</th>\n",
              "      <td>0</td>\n",
              "      <td>1</td>\n",
              "      <td>0</td>\n",
              "      <td>0</td>\n",
              "      <td>0</td>\n",
              "      <td>0</td>\n",
              "      <td>1</td>\n",
              "      <td>1</td>\n",
              "      <td>0</td>\n",
              "      <td>0</td>\n",
              "      <td>...</td>\n",
              "      <td>1</td>\n",
              "      <td>0</td>\n",
              "      <td>0</td>\n",
              "      <td>1</td>\n",
              "      <td>0</td>\n",
              "      <td>0</td>\n",
              "      <td>0</td>\n",
              "      <td>0</td>\n",
              "      <td>0</td>\n",
              "      <td>0</td>\n",
              "    </tr>\n",
              "  </tbody>\n",
              "</table>\n",
              "<p>4 rows × 47 columns</p>\n",
              "</div>\n",
              "    <div class=\"colab-df-buttons\">\n",
              "\n",
              "  <div class=\"colab-df-container\">\n",
              "    <button class=\"colab-df-convert\" onclick=\"convertToInteractive('df-b2cf7324-812f-45e5-a1ea-2b40e5ebfc72')\"\n",
              "            title=\"Convert this dataframe to an interactive table.\"\n",
              "            style=\"display:none;\">\n",
              "\n",
              "  <svg xmlns=\"http://www.w3.org/2000/svg\" height=\"24px\" viewBox=\"0 -960 960 960\">\n",
              "    <path d=\"M120-120v-720h720v720H120Zm60-500h600v-160H180v160Zm220 220h160v-160H400v160Zm0 220h160v-160H400v160ZM180-400h160v-160H180v160Zm440 0h160v-160H620v160ZM180-180h160v-160H180v160Zm440 0h160v-160H620v160Z\"/>\n",
              "  </svg>\n",
              "    </button>\n",
              "\n",
              "  <style>\n",
              "    .colab-df-container {\n",
              "      display:flex;\n",
              "      gap: 12px;\n",
              "    }\n",
              "\n",
              "    .colab-df-convert {\n",
              "      background-color: #E8F0FE;\n",
              "      border: none;\n",
              "      border-radius: 50%;\n",
              "      cursor: pointer;\n",
              "      display: none;\n",
              "      fill: #1967D2;\n",
              "      height: 32px;\n",
              "      padding: 0 0 0 0;\n",
              "      width: 32px;\n",
              "    }\n",
              "\n",
              "    .colab-df-convert:hover {\n",
              "      background-color: #E2EBFA;\n",
              "      box-shadow: 0px 1px 2px rgba(60, 64, 67, 0.3), 0px 1px 3px 1px rgba(60, 64, 67, 0.15);\n",
              "      fill: #174EA6;\n",
              "    }\n",
              "\n",
              "    .colab-df-buttons div {\n",
              "      margin-bottom: 4px;\n",
              "    }\n",
              "\n",
              "    [theme=dark] .colab-df-convert {\n",
              "      background-color: #3B4455;\n",
              "      fill: #D2E3FC;\n",
              "    }\n",
              "\n",
              "    [theme=dark] .colab-df-convert:hover {\n",
              "      background-color: #434B5C;\n",
              "      box-shadow: 0px 1px 3px 1px rgba(0, 0, 0, 0.15);\n",
              "      filter: drop-shadow(0px 1px 2px rgba(0, 0, 0, 0.3));\n",
              "      fill: #FFFFFF;\n",
              "    }\n",
              "  </style>\n",
              "\n",
              "    <script>\n",
              "      const buttonEl =\n",
              "        document.querySelector('#df-b2cf7324-812f-45e5-a1ea-2b40e5ebfc72 button.colab-df-convert');\n",
              "      buttonEl.style.display =\n",
              "        google.colab.kernel.accessAllowed ? 'block' : 'none';\n",
              "\n",
              "      async function convertToInteractive(key) {\n",
              "        const element = document.querySelector('#df-b2cf7324-812f-45e5-a1ea-2b40e5ebfc72');\n",
              "        const dataTable =\n",
              "          await google.colab.kernel.invokeFunction('convertToInteractive',\n",
              "                                                    [key], {});\n",
              "        if (!dataTable) return;\n",
              "\n",
              "        const docLinkHtml = 'Like what you see? Visit the ' +\n",
              "          '<a target=\"_blank\" href=https://colab.research.google.com/notebooks/data_table.ipynb>data table notebook</a>'\n",
              "          + ' to learn more about interactive tables.';\n",
              "        element.innerHTML = '';\n",
              "        dataTable['output_type'] = 'display_data';\n",
              "        await google.colab.output.renderOutput(dataTable, element);\n",
              "        const docLink = document.createElement('div');\n",
              "        docLink.innerHTML = docLinkHtml;\n",
              "        element.appendChild(docLink);\n",
              "      }\n",
              "    </script>\n",
              "  </div>\n",
              "\n",
              "\n",
              "<div id=\"df-7254bbb9-e924-4b80-9b00-94a8049c7f5f\">\n",
              "  <button class=\"colab-df-quickchart\" onclick=\"quickchart('df-7254bbb9-e924-4b80-9b00-94a8049c7f5f')\"\n",
              "            title=\"Suggest charts\"\n",
              "            style=\"display:none;\">\n",
              "\n",
              "<svg xmlns=\"http://www.w3.org/2000/svg\" height=\"24px\"viewBox=\"0 0 24 24\"\n",
              "     width=\"24px\">\n",
              "    <g>\n",
              "        <path d=\"M19 3H5c-1.1 0-2 .9-2 2v14c0 1.1.9 2 2 2h14c1.1 0 2-.9 2-2V5c0-1.1-.9-2-2-2zM9 17H7v-7h2v7zm4 0h-2V7h2v10zm4 0h-2v-4h2v4z\"/>\n",
              "    </g>\n",
              "</svg>\n",
              "  </button>\n",
              "\n",
              "<style>\n",
              "  .colab-df-quickchart {\n",
              "      --bg-color: #E8F0FE;\n",
              "      --fill-color: #1967D2;\n",
              "      --hover-bg-color: #E2EBFA;\n",
              "      --hover-fill-color: #174EA6;\n",
              "      --disabled-fill-color: #AAA;\n",
              "      --disabled-bg-color: #DDD;\n",
              "  }\n",
              "\n",
              "  [theme=dark] .colab-df-quickchart {\n",
              "      --bg-color: #3B4455;\n",
              "      --fill-color: #D2E3FC;\n",
              "      --hover-bg-color: #434B5C;\n",
              "      --hover-fill-color: #FFFFFF;\n",
              "      --disabled-bg-color: #3B4455;\n",
              "      --disabled-fill-color: #666;\n",
              "  }\n",
              "\n",
              "  .colab-df-quickchart {\n",
              "    background-color: var(--bg-color);\n",
              "    border: none;\n",
              "    border-radius: 50%;\n",
              "    cursor: pointer;\n",
              "    display: none;\n",
              "    fill: var(--fill-color);\n",
              "    height: 32px;\n",
              "    padding: 0;\n",
              "    width: 32px;\n",
              "  }\n",
              "\n",
              "  .colab-df-quickchart:hover {\n",
              "    background-color: var(--hover-bg-color);\n",
              "    box-shadow: 0 1px 2px rgba(60, 64, 67, 0.3), 0 1px 3px 1px rgba(60, 64, 67, 0.15);\n",
              "    fill: var(--button-hover-fill-color);\n",
              "  }\n",
              "\n",
              "  .colab-df-quickchart-complete:disabled,\n",
              "  .colab-df-quickchart-complete:disabled:hover {\n",
              "    background-color: var(--disabled-bg-color);\n",
              "    fill: var(--disabled-fill-color);\n",
              "    box-shadow: none;\n",
              "  }\n",
              "\n",
              "  .colab-df-spinner {\n",
              "    border: 2px solid var(--fill-color);\n",
              "    border-color: transparent;\n",
              "    border-bottom-color: var(--fill-color);\n",
              "    animation:\n",
              "      spin 1s steps(1) infinite;\n",
              "  }\n",
              "\n",
              "  @keyframes spin {\n",
              "    0% {\n",
              "      border-color: transparent;\n",
              "      border-bottom-color: var(--fill-color);\n",
              "      border-left-color: var(--fill-color);\n",
              "    }\n",
              "    20% {\n",
              "      border-color: transparent;\n",
              "      border-left-color: var(--fill-color);\n",
              "      border-top-color: var(--fill-color);\n",
              "    }\n",
              "    30% {\n",
              "      border-color: transparent;\n",
              "      border-left-color: var(--fill-color);\n",
              "      border-top-color: var(--fill-color);\n",
              "      border-right-color: var(--fill-color);\n",
              "    }\n",
              "    40% {\n",
              "      border-color: transparent;\n",
              "      border-right-color: var(--fill-color);\n",
              "      border-top-color: var(--fill-color);\n",
              "    }\n",
              "    60% {\n",
              "      border-color: transparent;\n",
              "      border-right-color: var(--fill-color);\n",
              "    }\n",
              "    80% {\n",
              "      border-color: transparent;\n",
              "      border-right-color: var(--fill-color);\n",
              "      border-bottom-color: var(--fill-color);\n",
              "    }\n",
              "    90% {\n",
              "      border-color: transparent;\n",
              "      border-bottom-color: var(--fill-color);\n",
              "    }\n",
              "  }\n",
              "</style>\n",
              "\n",
              "  <script>\n",
              "    async function quickchart(key) {\n",
              "      const quickchartButtonEl =\n",
              "        document.querySelector('#' + key + ' button');\n",
              "      quickchartButtonEl.disabled = true;  // To prevent multiple clicks.\n",
              "      quickchartButtonEl.classList.add('colab-df-spinner');\n",
              "      try {\n",
              "        const charts = await google.colab.kernel.invokeFunction(\n",
              "            'suggestCharts', [key], {});\n",
              "      } catch (error) {\n",
              "        console.error('Error during call to suggestCharts:', error);\n",
              "      }\n",
              "      quickchartButtonEl.classList.remove('colab-df-spinner');\n",
              "      quickchartButtonEl.classList.add('colab-df-quickchart-complete');\n",
              "    }\n",
              "    (() => {\n",
              "      let quickchartButtonEl =\n",
              "        document.querySelector('#df-7254bbb9-e924-4b80-9b00-94a8049c7f5f button');\n",
              "      quickchartButtonEl.style.display =\n",
              "        google.colab.kernel.accessAllowed ? 'block' : 'none';\n",
              "    })();\n",
              "  </script>\n",
              "</div>\n",
              "\n",
              "    </div>\n",
              "  </div>\n"
            ],
            "application/vnd.google.colaboratory.intrinsic+json": {
              "type": "dataframe"
            }
          },
          "metadata": {},
          "execution_count": 17
        }
      ]
    },
    {
      "cell_type": "markdown",
      "source": [
        "### TF-IDF (Term Frequency - Inverse Document Frequency)"
      ],
      "metadata": {
        "id": "e7KieWsbMdE7"
      }
    },
    {
      "cell_type": "code",
      "source": [
        "from sklearn.feature_extraction.text import TfidfVectorizer\n",
        "tfidf = TfidfVectorizer(ngram_range=(1,3))\n",
        "print(tfidf.fit_transform(df['text_data']).toarray())"
      ],
      "metadata": {
        "colab": {
          "base_uri": "https://localhost:8080/"
        },
        "id": "i2ZwnGuCLgl9",
        "outputId": "fd39843b-ca02-4a15-8517-c195ea6596b8"
      },
      "execution_count": 18,
      "outputs": [
        {
          "output_type": "stream",
          "name": "stdout",
          "text": [
            "[[0.23002364 0.15225029 0.29175583 0.         0.         0.\n",
            "  0.         0.         0.         0.         0.         0.\n",
            "  0.         0.15225029 0.         0.         0.         0.\n",
            "  0.         0.         0.         0.29175583 0.29175583 0.15225029\n",
            "  0.15225029 0.         0.         0.         0.29175583 0.\n",
            "  0.         0.         0.         0.         0.         0.\n",
            "  0.18622396 0.18622396 0.29175583 0.         0.         0.18622396\n",
            "  0.18622396 0.18622396 0.29175583 0.29175583 0.29175583]\n",
            " [0.20658538 0.13673674 0.         0.         0.26202735 0.26202735\n",
            "  0.         0.         0.         0.         0.         0.\n",
            "  0.         0.27347349 0.26202735 0.         0.         0.26202735\n",
            "  0.26202735 0.         0.         0.         0.         0.13673674\n",
            "  0.13673674 0.         0.26202735 0.         0.         0.\n",
            "  0.         0.26202735 0.26202735 0.26202735 0.         0.\n",
            "  0.16724867 0.16724867 0.         0.26202735 0.         0.16724867\n",
            "  0.16724867 0.16724867 0.         0.         0.        ]\n",
            " [0.         0.16250906 0.         0.3114146  0.         0.\n",
            "  0.         0.         0.3114146  0.3114146  0.3114146  0.3114146\n",
            "  0.         0.16250906 0.         0.3114146  0.3114146  0.\n",
            "  0.         0.         0.         0.         0.         0.16250906\n",
            "  0.16250906 0.3114146  0.         0.         0.         0.\n",
            "  0.         0.         0.         0.         0.         0.\n",
            "  0.         0.         0.         0.         0.         0.1987719\n",
            "  0.1987719  0.1987719  0.         0.         0.        ]\n",
            " [0.         0.14087857 0.         0.         0.         0.\n",
            "  0.26996429 0.26996429 0.         0.         0.         0.\n",
            "  0.26996429 0.14087857 0.         0.         0.         0.\n",
            "  0.         0.26996429 0.26996429 0.         0.         0.28175713\n",
            "  0.14087857 0.         0.         0.26996429 0.         0.26996429\n",
            "  0.26996429 0.         0.         0.         0.26996429 0.26996429\n",
            "  0.17231471 0.17231471 0.         0.         0.26996429 0.\n",
            "  0.         0.         0.         0.         0.        ]]\n"
          ]
        }
      ]
    },
    {
      "cell_type": "code",
      "source": [
        "print(tfidf.idf_)"
      ],
      "metadata": {
        "colab": {
          "base_uri": "https://localhost:8080/"
        },
        "id": "JL3IgEatOcps",
        "outputId": "e2876fd0-7ee6-4e1e-9b09-b72b0cdf0c97"
      },
      "execution_count": 19,
      "outputs": [
        {
          "output_type": "stream",
          "name": "stdout",
          "text": [
            "[1.51082562 1.         1.91629073 1.91629073 1.91629073 1.91629073\n",
            " 1.91629073 1.91629073 1.91629073 1.91629073 1.91629073 1.91629073\n",
            " 1.91629073 1.         1.91629073 1.91629073 1.91629073 1.91629073\n",
            " 1.91629073 1.91629073 1.91629073 1.91629073 1.91629073 1.\n",
            " 1.         1.91629073 1.91629073 1.91629073 1.91629073 1.91629073\n",
            " 1.91629073 1.91629073 1.91629073 1.91629073 1.91629073 1.91629073\n",
            " 1.22314355 1.22314355 1.91629073 1.91629073 1.91629073 1.22314355\n",
            " 1.22314355 1.22314355 1.91629073 1.91629073 1.91629073]\n"
          ]
        }
      ]
    },
    {
      "cell_type": "code",
      "source": [
        "print(tfidf.get_feature_names_out())"
      ],
      "metadata": {
        "colab": {
          "base_uri": "https://localhost:8080/"
        },
        "id": "5hPktwWGOu8Y",
        "outputId": "18f0df98-3875-43d1-bd49-0a3209ba0ee1"
      },
      "execution_count": 20,
      "outputs": [
        {
          "output_type": "stream",
          "name": "stdout",
          "text": [
            "['affordable' 'and' 'and affordable' 'and cheap' 'and is'\n",
            " 'and is affordable' 'and meal' 'and meal tastes' 'cheap' 'delicious'\n",
            " 'delicious and' 'delicious and cheap' 'good' 'is' 'is affordable'\n",
            " 'is delicious' 'is delicious and' 'is not' 'is not tasty' 'is tasty'\n",
            " 'is tasty and' 'is very' 'is very tasty' 'meal' 'meal is'\n",
            " 'meal is delicious' 'meal is not' 'meal is tasty' 'meal is very'\n",
            " 'meal tastes' 'meal tastes good' 'not' 'not tasty' 'not tasty and'\n",
            " 'tastes' 'tastes good' 'tasty' 'tasty and' 'tasty and affordable'\n",
            " 'tasty and is' 'tasty and meal' 'this' 'this meal' 'this meal is' 'very'\n",
            " 'very tasty' 'very tasty and']\n"
          ]
        }
      ]
    },
    {
      "cell_type": "markdown",
      "source": [
        "### n-gram: ngramise the sentence using TextBlob & NLTK"
      ],
      "metadata": {
        "id": "8YBq7-NoyvUD"
      }
    },
    {
      "cell_type": "code",
      "source": [
        "from nltk import ngrams"
      ],
      "metadata": {
        "id": "E7HEw2n9zFqe"
      },
      "execution_count": 21,
      "outputs": []
    },
    {
      "cell_type": "code",
      "source": [
        "input='I want to ngramise the given sentences'\n",
        "\n",
        "for i in ngrams(input.split(),3):\n",
        "  print(i)"
      ],
      "metadata": {
        "colab": {
          "base_uri": "https://localhost:8080/"
        },
        "id": "Gcbb7MJTysVG",
        "outputId": "226013fe-1f0b-44af-a7df-813b02a6c5e4"
      },
      "execution_count": null,
      "outputs": [
        {
          "output_type": "stream",
          "name": "stdout",
          "text": [
            "('I', 'want', 'to')\n",
            "('want', 'to', 'ngramise')\n",
            "('to', 'ngramise', 'the')\n",
            "('ngramise', 'the', 'given')\n",
            "('the', 'given', 'sentences')\n"
          ]
        }
      ]
    },
    {
      "cell_type": "code",
      "source": [
        "# !pip install -U textblob\n",
        "# !python -m textblob.download_corpora\n",
        "# !pip install textblob\n"
      ],
      "metadata": {
        "id": "ERAKIUPAy4Zp"
      },
      "execution_count": null,
      "outputs": []
    },
    {
      "cell_type": "code",
      "source": [
        "from textblob import TextBlob\n",
        "\n",
        "input = TextBlob(\"I want to ngramise the given sentences\")"
      ],
      "metadata": {
        "id": "YOgDIikm0cIf"
      },
      "execution_count": null,
      "outputs": []
    },
    {
      "cell_type": "code",
      "source": [
        "print(input.ngrams(1)) # uni-gram"
      ],
      "metadata": {
        "colab": {
          "base_uri": "https://localhost:8080/"
        },
        "id": "69ZBewUb02wI",
        "outputId": "a26cbcc9-57d5-4791-c277-0911604c8bd5"
      },
      "execution_count": null,
      "outputs": [
        {
          "output_type": "stream",
          "name": "stdout",
          "text": [
            "[WordList(['I']), WordList(['want']), WordList(['to']), WordList(['ngramise']), WordList(['the']), WordList(['given']), WordList(['sentences'])]\n"
          ]
        }
      ]
    },
    {
      "cell_type": "code",
      "source": [
        "print(input.ngrams(2)) # bi-gram"
      ],
      "metadata": {
        "colab": {
          "base_uri": "https://localhost:8080/"
        },
        "id": "9kDVSP8g1HV4",
        "outputId": "b2724509-877c-4604-ee01-cae115c08817"
      },
      "execution_count": null,
      "outputs": [
        {
          "output_type": "stream",
          "name": "stdout",
          "text": [
            "[WordList(['I', 'want']), WordList(['want', 'to']), WordList(['to', 'ngramise']), WordList(['ngramise', 'the']), WordList(['the', 'given']), WordList(['given', 'sentences'])]\n"
          ]
        }
      ]
    },
    {
      "cell_type": "code",
      "source": [
        "print(input.ngrams(3)) # tri-gram"
      ],
      "metadata": {
        "colab": {
          "base_uri": "https://localhost:8080/"
        },
        "id": "eRAvMjKl1StM",
        "outputId": "9938cb87-0398-4301-ec0a-76404bb7f51b"
      },
      "execution_count": null,
      "outputs": [
        {
          "output_type": "stream",
          "name": "stdout",
          "text": [
            "[WordList(['I', 'want', 'to']), WordList(['want', 'to', 'ngramise']), WordList(['to', 'ngramise', 'the']), WordList(['ngramise', 'the', 'given']), WordList(['the', 'given', 'sentences'])]\n"
          ]
        }
      ]
    },
    {
      "cell_type": "code",
      "source": [
        "# TextBlob is useful for translation purpose\n",
        "# chinese_lang = TextBlob(\"赖清德致词说：“中华民国已经在台澎金马落地生根，和中华人民共和国互不隶属；民主自由在这块土地上成长茁壮，中华人民共和国无权代表台湾；2300万台湾人民更要向全世界开枝散叶，迎向未来。”\")\n",
        "# chinese_lang.translate(from_lang='zh-CN', to='en')"
      ],
      "metadata": {
        "id": "hWY1WxNy1cLs"
      },
      "execution_count": null,
      "outputs": []
    },
    {
      "cell_type": "code",
      "source": [
        "# Correct Spell checks\n",
        "spell_check = TextBlob(\"I haave tw saay thatt youu havv aa goood knoledgee about englich\")\n",
        "spell_check.correct()"
      ],
      "metadata": {
        "colab": {
          "base_uri": "https://localhost:8080/"
        },
        "id": "p_cLYjjv3LWZ",
        "outputId": "ee673c6d-eda5-4712-9069-e43575f7133f"
      },
      "execution_count": null,
      "outputs": [
        {
          "output_type": "execute_result",
          "data": {
            "text/plain": [
              "TextBlob(\"I have to say that you have a good knowledge about english\")"
            ]
          },
          "metadata": {},
          "execution_count": 40
        }
      ]
    },
    {
      "cell_type": "markdown",
      "source": [
        "#### (https://textblob.readthedocs.io/en/dev/)"
      ],
      "metadata": {
        "id": "i6_7LG7h5uBp"
      }
    }
  ]
}